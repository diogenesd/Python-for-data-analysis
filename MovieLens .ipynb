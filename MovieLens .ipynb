{
 "cells": [
  {
   "cell_type": "markdown",
   "metadata": {},
   "source": [
    "<h1>2.MovieLens 1M Data Set</h1><br>\n",
    "<p>Data provides a number of collections of movie ratings data collected from users of MovieLens (http://www.grouplens.org/node/73) in the late 1990s and early 2000s.The data provide movie ratings, movie metadata (genres and year), and demographic data about the users (age, zip code, gender, and occupation). Such data\n",
    "is often of interest in the development of recommendation systems based on machine\n",
    "learning algorithms.</p>"
   ]
  },
  {
   "cell_type": "markdown",
   "metadata": {},
   "source": [
    "<h3>Have be careful</h3>\n",
    "<p>The MovieLens 1M data set contains 1 million ratings collected from 6000 users on\n",
    "4000 movies. It’s spread across 3 tables: ratings, user information, and movie infor-\n",
    "mation.</p>"
   ]
  },
  {
   "cell_type": "code",
   "execution_count": null,
   "metadata": {
    "collapsed": true
   },
   "outputs": [],
   "source": [
    "# import the lib pandas\n",
    "import pandas as p"
   ]
  },
  {
   "cell_type": "markdown",
   "metadata": {},
   "source": [
    "<h2> DATA'S MANIPULATION </h2>"
   ]
  },
  {
   "cell_type": "code",
   "execution_count": null,
   "metadata": {
    "collapsed": true
   },
   "outputs": [],
   "source": [
    "# make one list for be user data's header\n",
    "unames = ['user_id', 'gender', 'age', 'occupation', 'zip']\n",
    "\n",
    "# read data for pandas. Caution: I did change the sep='::' by sep=';' in my data. \n",
    "# If you will used data origin, pay attention in this place.\n",
    "users = pd.read_table('./data/movielens/users.dat', sep=';', header=None, names=unames)"
   ]
  },
  {
   "cell_type": "code",
   "execution_count": null,
   "metadata": {
    "collapsed": true
   },
   "outputs": [],
   "source": [
    "# showing the first five to verify if be right\n",
    "print('size of users=',len(users))\n",
    "users.head()"
   ]
  },
  {
   "cell_type": "code",
   "execution_count": null,
   "metadata": {
    "collapsed": true
   },
   "outputs": [],
   "source": [
    "# make one list for be rating data's header\n",
    "rnames = ['user_id', 'movie_id', 'rating', 'timestamp']\n",
    "\n",
    "# Pay attention in parameter sep=';'. I did change like I did with user's data.\n",
    "# Pay attention to in hardercode path.\n",
    "ratings = pd.read_table('../data/movielens/ratings.dat', sep=';', header=None, names=rnames)"
   ]
  },
  {
   "cell_type": "code",
   "execution_count": null,
   "metadata": {
    "collapsed": true
   },
   "outputs": [],
   "source": [
    "# showing the first five to verify if be right\n",
    "print('size of ratings=',len(ratings))\n",
    "ratings.head()# make one list for be movie data's header\n",
    "mnames = ['movie_id', 'title', 'genres']\n",
    "\n",
    "# Pay attention in parameter sep=';'. I did change like I did with both user's and rating's data.\n",
    "# Pay attention to in hardercode path.\n",
    "# I had one error when I tried to open file by pandas read_table method becuse encoding was differnt to 'utf8'\n",
    "# The solution was change the encoding to 'latin-1'\n",
    "movies = pd.read_table('../data/movielens/movies.dat', sep=';', header=None, names=mnames, encoding='latin-1')"
   ]
  },
  {
   "cell_type": "code",
   "execution_count": null,
   "metadata": {
    "collapsed": true
   },
   "outputs": [],
   "source": [
    "# showing the first five to verify if be right\n",
    "print('size of movies=',len(movies))\n",
    "movies.head()"
   ]
  },
  {
   "cell_type": "markdown",
   "metadata": {},
   "source": [
    "<h2>Exploring data</h2>"
   ]
  },
  {
   "cell_type": "code",
   "execution_count": null,
   "metadata": {
    "collapsed": true
   },
   "outputs": [],
   "source": [
    "# I'll want to compute mean ratings for a particular movie by sex and age.\n",
    "# Then, I first merge ratings with users then merging that result with the movies data.\n",
    "data = pd.merge(pd.merge(ratings, users), movies)# showing the first five to verify if be right\n",
    "print('size of data merge=',len(data)) # same size of ratings\n",
    "data.head()"
   ]
  },
  {
   "cell_type": "code",
   "execution_count": null,
   "metadata": {
    "collapsed": true
   },
   "outputs": [],
   "source": [
    "# Now, I get mean movie ratings for each film grouped by gender.\n",
    "# I'll use the pivot_table method.\n",
    "mean_ratings = data.pivot_table('rating', index=['title'], columns=['gender'], aggfunc=np.mean)"
   ]
  },
  {
   "cell_type": "code",
   "execution_count": null,
   "metadata": {
    "collapsed": true
   },
   "outputs": [],
   "source": [
    "# showing the first five to verify if be right\n",
    "print('size of mean_ratings=',len(mean_ratings))\n",
    "mean_ratings.head()"
   ]
  },
  {
   "cell_type": "code",
   "execution_count": null,
   "metadata": {
    "collapsed": true
   },
   "outputs": [],
   "source": [
    "# Now, I’m going to filter down to movies that received at least 250 ratings.\n",
    "ratings_by_title = data.groupby('title').size()"
   ]
  },
  {
   "cell_type": "code",
   "execution_count": null,
   "metadata": {
    "collapsed": true
   },
   "outputs": [],
   "source": [
    "# showing the first ten to verify if be right\n",
    "print('size of ratings_by_title=',len(ratings_by_title))\n",
    "ratings_by_title.head(10)"
   ]
  },
  {
   "cell_type": "code",
   "execution_count": null,
   "metadata": {
    "collapsed": true
   },
   "outputs": [],
   "source": [
    "active_titles = ratings_by_title.index[ratings_by_title >= 250]\n",
    "active_titles"
   ]
  },
  {
   "cell_type": "code",
   "execution_count": null,
   "metadata": {
    "collapsed": true
   },
   "outputs": [],
   "source": [
    "# The index of titles receiving at least 250 ratings can then be used to select rows from mean_ratings above\n",
    "mean_ratingsIX = mean_ratings.loc[active_titles]\n",
    "mean_ratingsIX[:10]"
   ]
  },
  {
   "cell_type": "code",
   "execution_count": null,
   "metadata": {
    "collapsed": true
   },
   "outputs": [],
   "source": [
    "# To see the top films among female viewers, I'll sort by the F column in descending order.\n",
    "top_female_ratings = mean_ratingsIX.sort_values(by='F', ascending=False)\n",
    "top_female_ratings[:10]"
   ]
  },
  {
   "cell_type": "markdown",
   "metadata": {},
   "source": [
    "<h2>Measuring rating disagreement</h2>"
   ]
  },
  {
   "cell_type": "code",
   "execution_count": null,
   "metadata": {
    "collapsed": true
   },
   "outputs": [],
   "source": [
    "# finding the movies that are most divisive between male and female viewers.\n",
    "mean_ratings['diff'] = mean_ratings['M'] - mean_ratings['F']\n",
    "\n",
    "# sorted by disagreemnt\n",
    "sorted_by_diff = mean_ratings.sort_values(by='diff')"
   ]
  },
  {
   "cell_type": "code",
   "execution_count": null,
   "metadata": {
    "collapsed": true
   },
   "outputs": [],
   "source": [
    "# showing the first ten to verify if be right\n",
    "sorted_by_diff[:10]"
   ]
  },
  {
   "cell_type": "code",
   "execution_count": null,
   "metadata": {
    "collapsed": true
   },
   "outputs": [],
   "source": [
    "# I do want know what movies are more preferred by men that women didn’t rate as highly.\n",
    "sorted_by_diff[::-1][:15]"
   ]
  },
  {
   "cell_type": "code",
   "execution_count": null,
   "metadata": {
    "collapsed": true
   },
   "outputs": [],
   "source": [
    "# Now, I'd wanted the movies that elicited the most disagreement among viewers, independent of gender.\n",
    "# Standard deviation of rating grouped by title.\n",
    "rating_std_by_title = data.groupby('title')['rating'].std()\n",
    "\n",
    "# Filter down to active_titles\n",
    "rating_std_by_title = rating_std_by_title.loc[active_titles]\n",
    "\n",
    "# Series by value in descending order\n",
    "rating_std_by_title.sort_values(ascending=False)[:10]"
   ]
  },
  {
   "cell_type": "code",
   "execution_count": null,
   "metadata": {
    "collapsed": true
   },
   "outputs": [],
   "source": []
  }
 ],
 "metadata": {
  "kernelspec": {
   "display_name": "Python 3",
   "language": "python",
   "name": "python3"
  },
  "language_info": {
   "codemirror_mode": {
    "name": "ipython",
    "version": 3
   },
   "file_extension": ".py",
   "mimetype": "text/x-python",
   "name": "python",
   "nbconvert_exporter": "python",
   "pygments_lexer": "ipython3",
   "version": "3.6.0"
  }
 },
 "nbformat": 4,
 "nbformat_minor": 2
}
