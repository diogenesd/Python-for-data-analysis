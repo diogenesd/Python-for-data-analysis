{
 "cells": [
  {
   "cell_type": "markdown",
   "metadata": {},
   "source": [
    "<h2>US Baby Names 1880-2016</h2>"
   ]
  },
  {
   "cell_type": "markdown",
   "metadata": {},
   "source": [
    "<p>The United States Social Security Administration (SSA) has made available data on the\n",
    "frequency of baby names since 1880 for 2016. These data files can be obtained here:<a>https://www.ssa.gov/oact/babynames/limits.html</a></p></br>\n",
    "<h4>what do we do?</h4></br>\n",
    "<p>There many things, we might want to do with the data set:</p>\n",
    "<ol>\n",
    "  <li>Verify the total birth by gender in each year.</li>\n",
    "  <li>Visualize the proportion of babies given a particular name (your own, or another name) over time.</li>\n",
    "  <li>Determine the relative rank of a name.</li>\n",
    "  <li>Determine the most popular names in each year or the names with largest increases or decreases.</li>\n",
    "  <li>Analyze external sources of trends: biblical names, celebrities, demographic changes.</li>\n",
    "  <li>Many others things.</li>\n",
    "</ol>"
   ]
  },
  {
   "cell_type": "markdown",
   "metadata": {},
   "source": [
    "<h4>Let's go to data</h4>"
   ]
  },
  {
   "cell_type": "code",
   "execution_count": null,
   "metadata": {
    "collapsed": true
   },
   "outputs": [],
   "source": [
    "# I used the UNIX head command to look at the first 10 lines of one of the files.\n",
    "!head -n 10 '../data/names/yob1880.txt'"
   ]
  },
  {
   "cell_type": "code",
   "execution_count": null,
   "metadata": {
    "collapsed": true
   },
   "outputs": [],
   "source": [
    "# Using padas for read data.\n",
    "# make one list for be user data's header\n",
    "ubabys = ['name', 'sex', 'births']\n",
    "\n",
    "# read data for pandas.\n",
    "names1880 = pd.read_csv('../data/names/yob1880.txt', names= ubabys)"
   ]
  },
  {
   "cell_type": "code",
   "execution_count": null,
   "metadata": {
    "collapsed": true
   },
   "outputs": [],
   "source": [
    "# showing the first ten to verify if be right\n",
    "names1880.head(10)"
   ]
  },
  {
   "cell_type": "code",
   "execution_count": null,
   "metadata": {
    "collapsed": true
   },
   "outputs": [],
   "source": [
    "# Now, we grouping total births by sex \n",
    "names1880.groupby('sex').births.sum()"
   ]
  },
  {
   "cell_type": "code",
   "execution_count": null,
   "metadata": {
    "collapsed": true
   },
   "outputs": [],
   "source": [
    "# Now, we'll go togeth all of the data into a single DataFrame and further to add a year field, using pandas.\n",
    "\n",
    "# make one range for new column of the data. 2016 is the last available year right now.\n",
    "years = range(1880, 2016)"
   ]
  },
  {
   "cell_type": "code",
   "execution_count": null,
   "metadata": {
    "collapsed": true
   },
   "outputs": [],
   "source": [
    "files = [] # list for save archive data\n",
    "columns = ['name', 'sex', 'births'] # list for header."
   ]
  },
  {
   "cell_type": "code",
   "execution_count": null,
   "metadata": {
    "collapsed": true
   },
   "outputs": [],
   "source": [
    "# for each year (1880 for 2016) read one file.\n",
    "for year in years:\n",
    "    path = '../data/names/yob%d.txt' % year \n",
    "    frame = pd.read_csv(path, names=columns)\n",
    "    frame['year'] = year # add new column.\n",
    "    files.append(frame) # add file in files list."
   ]
  },
  {
   "cell_type": "code",
   "execution_count": null,
   "metadata": {
    "collapsed": true
   },
   "outputs": [],
   "source": [
    "# showing the first five to verify if be right\n",
    "files[:2]"
   ]
  },
  {
   "cell_type": "code",
   "execution_count": null,
   "metadata": {
    "collapsed": true
   },
   "outputs": [],
   "source": [
    "# Concatenate everything into a single DataFrame\n",
    "names = pd.concat(files, ignore_index=True)"
   ]
  },
  {
   "cell_type": "code",
   "execution_count": null,
   "metadata": {
    "collapsed": true
   },
   "outputs": [],
   "source": [
    "# showing the first ten to verify if be right\n",
    "names.head(10)"
   ]
  },
  {
   "cell_type": "markdown",
   "metadata": {},
   "source": [
    "## Manipuling data and solving the asks"
   ]
  },
  {
   "cell_type": "markdown",
   "metadata": {},
   "source": [
    "### 1. Verify the total birth by gender in each year.\n",
    "<p>Now, we can already start aggregating the data at the year and sex level. We can do this by groupby or pivot table.</p>"
   ]
  },
  {
   "cell_type": "code",
   "execution_count": null,
   "metadata": {
    "collapsed": true
   },
   "outputs": [],
   "source": [
    "# Here we use grpou table for grouping data.\n",
    "total_births = names.groupby(['year', 'sex']).births.sum()\n",
    "total_births.tail()"
   ]
  },
  {
   "cell_type": "code",
   "execution_count": null,
   "metadata": {
    "collapsed": true
   },
   "outputs": [],
   "source": [
    "# plotting data for better view.\n",
    "total_births.plot(title='Total births by sex and year')"
   ]
  },
  {
   "cell_type": "code",
   "execution_count": null,
   "metadata": {
    "collapsed": true
   },
   "outputs": [],
   "source": [
    "# Here we use pivot table for grouping data.\n",
    "total_births = names.pivot_table('births', index='year',columns='sex', aggfunc=sum)\n",
    "total_births.tail()"
   ]
  },
  {
   "cell_type": "code",
   "execution_count": null,
   "metadata": {
    "collapsed": true
   },
   "outputs": [],
   "source": [
    "# plotting data for better view.\n",
    "total_births.plot(title='Total births by sex and year')"
   ]
  },
  {
   "cell_type": "markdown",
   "metadata": {},
   "source": [
    "### 2. Visualize the proportion of babies given a particular name (your own, or another name) over time\n",
    "<p>Now, we group the data by year and sex, then add the new column to each group. For this we do make one function because we would used before.</p>"
   ]
  },
  {
   "cell_type": "code",
   "execution_count": null,
   "metadata": {
    "collapsed": true
   },
   "outputs": [],
   "source": [
    "# function for add do fraction of babies names relative to the total number of births.\n",
    "def add_prop(group):\n",
    "    # Integer division floors\n",
    "    births = group.births.astype(float) # get births e change field for float type.\n",
    "    group['prop'] = births / births.sum() # add field prop in group.\n",
    "    return group"
   ]
  },
  {
   "cell_type": "code",
   "execution_count": null,
   "metadata": {
    "collapsed": true
   },
   "outputs": [],
   "source": [
    "# Now, we are going to add field \n",
    "names = names.groupby(['year', 'sex']).apply(add_prop)"
   ]
  },
  {
   "cell_type": "code",
   "execution_count": null,
   "metadata": {
    "collapsed": true
   },
   "outputs": [],
   "source": [
    "# showing the first five. The function groupby had already ordened.\n",
    "names.head()"
   ]
  },
  {
   "cell_type": "code",
   "execution_count": null,
   "metadata": {
    "collapsed": true
   },
   "outputs": [],
   "source": [
    "# Checking sum of the prop is equals 1, for verify if funcfion 'add_prop' was made right = return True or mistake = return False.\n",
    "np.allclose(names.groupby(['year', 'sex']).prop.sum(), 1)"
   ]
  },
  {
   "cell_type": "code",
   "execution_count": null,
   "metadata": {
    "collapsed": true
   },
   "outputs": [],
   "source": [
    "# Now that this is done, I’m going to extract a subset of the data to facilitate further analysis.\n",
    "def get_top1000(group):\n",
    "    return group.sort_values(by='births', ascending=False)[:1000]"
   ]
  },
  {
   "cell_type": "code",
   "execution_count": null,
   "metadata": {
    "collapsed": true
   },
   "outputs": [],
   "source": [
    "grouped = names.groupby(['year', 'sex'])\n",
    "top1000 = grouped.apply(get_top1000)"
   ]
  },
  {
   "cell_type": "code",
   "execution_count": null,
   "metadata": {
    "collapsed": true
   },
   "outputs": [],
   "source": [
    "top1000[-1:]"
   ]
  },
  {
   "cell_type": "markdown",
   "metadata": {},
   "source": [
    "### Analyzing Naming Trends"
   ]
  },
  {
   "cell_type": "code",
   "execution_count": null,
   "metadata": {
    "collapsed": true
   },
   "outputs": [],
   "source": []
  }
 ],
 "metadata": {
  "kernelspec": {
   "display_name": "Python 3",
   "language": "python",
   "name": "python3"
  },
  "language_info": {
   "codemirror_mode": {
    "name": "ipython",
    "version": 3
   },
   "file_extension": ".py",
   "mimetype": "text/x-python",
   "name": "python",
   "nbconvert_exporter": "python",
   "pygments_lexer": "ipython3",
   "version": "3.6.0"
  }
 },
 "nbformat": 4,
 "nbformat_minor": 2
}
